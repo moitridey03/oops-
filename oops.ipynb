{
 "cells": [
  {
   "cell_type": "markdown",
   "id": "52d51a38-85fe-4a92-8c54-2f75c9d1ea4d",
   "metadata": {},
   "source": [
    "Q1. Explain Class and Object with respect to Object-Oriented Programming. Give a suitable example."
   ]
  },
  {
   "cell_type": "markdown",
   "id": "2d785faa-f9f5-4be0-afbb-a3a1e53d345d",
   "metadata": {},
   "source": [
    "In object-oriented programming (OOP), a class is a blueprint for creating objects. It defines the properties (attributes) and behaviors (methods) that objects of that class will possess. Essentially, a class acts as a template or a prototype from which objects are created.\n",
    "\n",
    "An object, on the other hand, is an instance of a class. It represents a real-world entity that has certain characteristics and can perform specific actions. Objects encapsulate data and behaviors, making them self-contained units within a program.\n",
    "\n",
    "Here's an example to illustrate the concepts of class and object:"
   ]
  },
  {
   "cell_type": "code",
   "execution_count": 1,
   "id": "c33d18aa-19a1-493a-8ed6-3a451a089e6e",
   "metadata": {},
   "outputs": [
    {
     "name": "stdout",
     "output_type": "stream",
     "text": [
      "2022 Toyota Corolla\n",
      "This car has 0 miles on it.\n",
      "This car has 150 miles on it.\n"
     ]
    }
   ],
   "source": [
    "# Define a class called 'Car'\n",
    "class Car:\n",
    "    # Constructor method to initialize the attributes\n",
    "    def __init__(self, make, model, year):\n",
    "        self.make = make\n",
    "        self.model = model\n",
    "        self.year = year\n",
    "        self.odometer_reading = 0\n",
    "\n",
    "    # Method to describe the car\n",
    "    def describe_car(self):\n",
    "        description = f\"{self.year} {self.make} {self.model}\"\n",
    "        return description\n",
    "\n",
    "    # Method to read the odometer\n",
    "    def read_odometer(self):\n",
    "        print(f\"This car has {self.odometer_reading} miles on it.\")\n",
    "\n",
    "    # Method to update the odometer reading\n",
    "    def update_odometer(self, mileage):\n",
    "        if mileage >= self.odometer_reading:\n",
    "            self.odometer_reading = mileage\n",
    "        else:\n",
    "            print(\"You can't roll back an odometer!\")\n",
    "\n",
    "    # Method to increment the odometer reading\n",
    "    def increment_odometer(self, miles):\n",
    "        self.odometer_reading += miles\n",
    "\n",
    "# Create an object 'my_car' from the 'Car' class\n",
    "my_car = Car(\"Toyota\", \"Corolla\", 2022)\n",
    "\n",
    "# Accessing attributes and methods of the 'my_car' object\n",
    "print(my_car.describe_car())  # Output: 2022 Toyota Corolla\n",
    "my_car.read_odometer()  # Output: This car has 0 miles on it.\n",
    "my_car.update_odometer(100)  # Set the odometer reading to 100\n",
    "my_car.increment_odometer(50)  # Increment the odometer reading by 50\n",
    "my_car.read_odometer()  # Output: This car has 150 miles on it.\n"
   ]
  },
  {
   "cell_type": "markdown",
   "id": "c717a243-475b-408f-9e82-3f6667b04a32",
   "metadata": {},
   "source": [
    "In this example, the class Car defines the blueprint for creating car objects. Each car object (my_car) has attributes such as make, model, year, and odometer_reading, along with methods like describe_car, read_odometer, update_odometer, and increment_odometer. The object my_car is created from the class Car, and its attributes and methods are accessed using dot notation."
   ]
  },
  {
   "cell_type": "markdown",
   "id": "fb12e9a8-798a-496b-a2cd-dee8c97b5e13",
   "metadata": {},
   "source": [
    "Q2. Name the four pillars of OOPs."
   ]
  },
  {
   "cell_type": "markdown",
   "id": "1dac717c-7dce-4608-b080-b1ac497ad90b",
   "metadata": {},
   "source": [
    "The four pillars of Object-Oriented Programming (OOP) are:\n",
    "\n",
    "Encapsulation: Encapsulation refers to the bundling of data and methods that operate on the data into a single unit, known as a class. It allows for the hiding of implementation details and restricting access to the internal state of objects, promoting data abstraction and security.\n",
    "\n",
    "Inheritance: Inheritance is a mechanism in which a new class (derived class) is created from an existing class (base class) by inheriting its properties and behaviors. This facilitates code reuse, allowing derived classes to inherit and extend the functionality of base classes, promoting modularity and extensibility.\n",
    "\n",
    "Polymorphism: Polymorphism allows objects of different classes to be treated as objects of a common superclass, enabling them to be used interchangeably. It allows methods to be invoked on objects without knowing their specific types, promoting flexibility and simplifying code maintenance.\n",
    "\n",
    "Abstraction: Abstraction involves the representation of essential features of an object while hiding unnecessary details. It allows for the creation of abstract classes and interfaces that define a blueprint for classes to implement, facilitating code organization, reuse, and modularity."
   ]
  },
  {
   "cell_type": "markdown",
   "id": "c8e1f486-21a3-4cfe-9ac0-d456602d38bb",
   "metadata": {},
   "source": [
    "Q3. Explain why the __init__() function is used. Give a suitable example."
   ]
  },
  {
   "cell_type": "markdown",
   "id": "8085c10b-46cf-4fa6-9dd9-d238d8b0c039",
   "metadata": {},
   "source": [
    "The __init__() function in Python is a special method used for initializing newly created objects. It is automatically called when a new instance of a class is created. The primary purpose of __init__() is to set up initial attributes or perform any necessary setup tasks required for the object to function properly.\n",
    "\n",
    "The __init__() method allows the programmer to ensure that certain attributes are set to specific values upon object creation, providing a standardized way to initialize object state. This helps maintain consistency and predictability in the behavior of objects within a class.\n",
    "\n",
    "Here's a suitable example to illustrate the usage of __init__():"
   ]
  },
  {
   "cell_type": "code",
   "execution_count": 2,
   "id": "ca71258a-45a3-4c88-8bca-d67a7345aab9",
   "metadata": {},
   "outputs": [
    {
     "name": "stdout",
     "output_type": "stream",
     "text": [
      "2020 Toyota Camry\n",
      "This car has 15000 miles on it.\n"
     ]
    }
   ],
   "source": [
    "class Car:\n",
    "    def __init__(self, make, model, year):\n",
    "        self.make = make\n",
    "        self.model = model\n",
    "        self.year = year\n",
    "        self.odometer_reading = 0  # Default value for odometer reading\n",
    "\n",
    "    def get_car_info(self):\n",
    "        car_info = f\"{self.year} {self.make} {self.model}\"\n",
    "        return car_info\n",
    "\n",
    "    def read_odometer(self):\n",
    "        return f\"This car has {self.odometer_reading} miles on it.\"\n",
    "\n",
    "    def update_odometer(self, mileage):\n",
    "        if mileage >= self.odometer_reading:\n",
    "            self.odometer_reading = mileage\n",
    "        else:\n",
    "            print(\"You can't roll back an odometer!\")\n",
    "\n",
    "    def increment_odometer(self, miles):\n",
    "        self.odometer_reading += miles\n",
    "\n",
    "\n",
    "my_car = Car(\"Toyota\", \"Camry\", 2020)\n",
    "print(my_car.get_car_info())  # Output: 2020 Toyota Camry\n",
    "\n",
    "my_car.update_odometer(15000)\n",
    "print(my_car.read_odometer())  # Output: This car has 15000 miles on it.\n"
   ]
  },
  {
   "cell_type": "markdown",
   "id": "277fe49a-76be-4f06-b2b4-eedf0c11d788",
   "metadata": {},
   "source": [
    "In this example, the __init__() method is used to initialize attributes such as make, model, and year when a new Car object is created. Additionally, it sets a default value for the odometer_reading attribute. This ensures that every Car object starts with a zero odometer reading unless explicitly updated later."
   ]
  },
  {
   "cell_type": "markdown",
   "id": "fee4d38f-379d-48d0-9bc4-5decaf0be638",
   "metadata": {},
   "source": [
    "Q4. Why self is used in OOPs?"
   ]
  },
  {
   "cell_type": "markdown",
   "id": "81c427b3-2035-4cd5-8712-05a504e493de",
   "metadata": {},
   "source": [
    "In Object-Oriented Programming (OOP), the concept of \"self\" is used to refer to the current instance of a class within its own methods or properties. It allows methods to access and manipulate the attributes and behaviors of the specific instance to which they belong. \"Self\" acts as a reference to the instance itself, enabling the class to differentiate between different instances and interact with their respective data.\n",
    "\n",
    "In languages such as Python, \"self\" is explicitly passed as the first parameter to instance methods. This parameter serves as a placeholder for the instance that invokes the method. By convention, it is named \"self\" for clarity and consistency, although other names can be used.\n",
    "\n",
    "The use of \"self\" facilitates encapsulation and abstraction, which are fundamental principles of OOP. Encapsulation ensures that the internal state of an object is hidden from the outside world and can only be accessed through well-defined interfaces, typically methods. \"Self\" helps in maintaining this encapsulation by providing a means for methods to access the object's state while preventing direct manipulation of its attributes from external code.\n",
    "\n",
    "Furthermore, \"self\" enables polymorphism, inheritance, and method overriding, which are key features of OOP. It allows subclasses to override methods defined in their parent classes and still have access to the instance-specific data via \"self\", ensuring that the correct implementation is invoked based on the actual type of the object at runtime.\n",
    "\n",
    "Overall, the use of \"self\" in OOP promotes code clarity, reusability, and maintainability by facilitating the organization and manipulation of object-oriented structures."
   ]
  },
  {
   "cell_type": "markdown",
   "id": "821552d1-1a4b-43e8-8f68-16b2c112cd4c",
   "metadata": {},
   "source": [
    "Q5. What is inheritance? Give an example for each type of inheritance."
   ]
  },
  {
   "cell_type": "code",
   "execution_count": null,
   "id": "d9066d5c-d684-4525-bcc6-eafe06392207",
   "metadata": {},
   "outputs": [],
   "source": []
  }
 ],
 "metadata": {
  "kernelspec": {
   "display_name": "Python 3 (ipykernel)",
   "language": "python",
   "name": "python3"
  },
  "language_info": {
   "codemirror_mode": {
    "name": "ipython",
    "version": 3
   },
   "file_extension": ".py",
   "mimetype": "text/x-python",
   "name": "python",
   "nbconvert_exporter": "python",
   "pygments_lexer": "ipython3",
   "version": "3.10.8"
  }
 },
 "nbformat": 4,
 "nbformat_minor": 5
}
